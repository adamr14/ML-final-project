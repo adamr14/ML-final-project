{
 "metadata": {
  "language_info": {
   "codemirror_mode": {
    "name": "ipython",
    "version": 3
   },
   "file_extension": ".py",
   "mimetype": "text/x-python",
   "name": "python",
   "nbconvert_exporter": "python",
   "pygments_lexer": "ipython3",
   "version": "3.8.2"
  },
  "orig_nbformat": 2,
  "kernelspec": {
   "name": "python382jvsc74a57bd031f2aee4e71d21fbe5cf8b01ff0e069b9275f58929596ceb00d14d90e3e16cd6",
   "display_name": "Python 3.8.2 64-bit"
  },
  "metadata": {
   "interpreter": {
    "hash": "31f2aee4e71d21fbe5cf8b01ff0e069b9275f58929596ceb00d14d90e3e16cd6"
   }
  }
 },
 "nbformat": 4,
 "nbformat_minor": 2,
 "cells": [
  {
   "cell_type": "code",
   "execution_count": 1,
   "metadata": {},
   "outputs": [],
   "source": [
    "%matplotlib inline\n",
    "%load_ext autoreload\n",
    "%autoreload 2"
   ]
  },
  {
   "cell_type": "code",
   "execution_count": 2,
   "metadata": {},
   "outputs": [],
   "source": [
    "import numpy as np\n",
    "import pandas as pd\n",
    "import time\n",
    "\n",
    "from crossval import cross_validate\n",
    "\n",
    "from svm_multiple_labels import SvmMultipleLabels"
   ]
  },
  {
   "cell_type": "code",
   "execution_count": 3,
   "metadata": {},
   "outputs": [],
   "source": [
    "pd_train_data = pd.read_csv(\"../dataset/train.csv\") #reading the csv files using pandas\n",
    "\n",
    "np_labels = pd_train_data['label']\n",
    "np_data = pd_train_data.drop(columns = 'label')"
   ]
  },
  {
   "cell_type": "code",
   "execution_count": 4,
   "metadata": {},
   "outputs": [],
   "source": [
    "# Preprocessing\n",
    "np_data = np_data / 255.0"
   ]
  },
  {
   "cell_type": "code",
   "execution_count": 5,
   "metadata": {},
   "outputs": [],
   "source": [
    "train_data = np.transpose(np_data[:2000].to_numpy())\n",
    "test_data = np.transpose(np_data[2001:12001].to_numpy())\n",
    "train_labels = np_labels[:2000].to_numpy()\n",
    "test_labels = np_labels[2001:12001].to_numpy()"
   ]
  },
  {
   "cell_type": "code",
   "execution_count": 6,
   "metadata": {},
   "outputs": [
    {
     "output_type": "stream",
     "name": "stdout",
     "text": [
      "Elapsed Time: 439.078443\n"
     ]
    }
   ],
   "source": [
    "params = {\n",
    "    'kernel': 'rbf',\n",
    "    'C': 10,\n",
    "    'sigma': 5.35\n",
    "}\n",
    "\n",
    "start = time.time()\n",
    "\n",
    "rbf_svm = SvmMultipleLabels(params)\n",
    "lin_svm_model = rbf_svm.fit(train_data, train_labels)\n",
    "\n",
    "end = time.time()\n",
    "\n",
    "print('Elapsed Time: %f' % (end - start))"
   ]
  },
  {
   "cell_type": "code",
   "execution_count": 7,
   "metadata": {},
   "outputs": [
    {
     "output_type": "stream",
     "name": "stdout",
     "text": [
      "Accuracy: 0.942100\n"
     ]
    }
   ],
   "source": [
    "predictions = rbf_svm.predict(test_data)\n",
    "\n",
    "print('Accuracy: %f' % (np.mean(predictions == test_labels)))"
   ]
  },
  {
   "cell_type": "code",
   "execution_count": null,
   "metadata": {},
   "outputs": [],
   "source": []
  }
 ]
}